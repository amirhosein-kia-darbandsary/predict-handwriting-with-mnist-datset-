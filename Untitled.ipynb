{
 "cells": [
  {
   "cell_type": "code",
   "execution_count": 41,
   "id": "fd7376df",
   "metadata": {},
   "outputs": [],
   "source": [
    "import tensorflow as tf\n",
    "import tensorflow_datasets as td\n",
    "import tensorflow.keras.layers as layer\n",
    "import matplotlib.pyplot as plt \n",
    "import numpy as np "
   ]
  },
  {
   "cell_type": "code",
   "execution_count": 24,
   "id": "8340e871",
   "metadata": {},
   "outputs": [],
   "source": [
    "(train , test) , info = td.load('mnist' , split=['train','test'] , as_supervised=True , with_info=True)"
   ]
  },
  {
   "cell_type": "code",
   "execution_count": 26,
   "id": "fa6a9827",
   "metadata": {},
   "outputs": [],
   "source": [
    "def nomalizing(image , label):\n",
    "    return tf.cast(image , tf.float32) / 256 , label"
   ]
  },
  {
   "cell_type": "code",
   "execution_count": 27,
   "id": "0b0143bc",
   "metadata": {},
   "outputs": [],
   "source": [
    "train = train.map(nomalizing)\n",
    "test = test.map(nomalizing)"
   ]
  },
  {
   "cell_type": "code",
   "execution_count": 28,
   "id": "053b35fc",
   "metadata": {},
   "outputs": [],
   "source": [
    "train = train.shuffle(info.splits['train'].num_examples)\n",
    "test  = test.shuffle(info.splits['test'].num_examples)"
   ]
  },
  {
   "cell_type": "code",
   "execution_count": 29,
   "id": "2ff41ad3",
   "metadata": {},
   "outputs": [],
   "source": [
    "train = train.batch(256)\n",
    "test  = test.batch(256)"
   ]
  },
  {
   "cell_type": "code",
   "execution_count": 30,
   "id": "15ab849a",
   "metadata": {},
   "outputs": [],
   "source": [
    "train = train.prefetch(tf.data.experimental.AUTOTUNE)\n",
    "test  = test.prefetch(tf.data.experimental.AUTOTUNE)"
   ]
  },
  {
   "cell_type": "code",
   "execution_count": 31,
   "id": "9c59415a",
   "metadata": {},
   "outputs": [],
   "source": [
    "train = train.cache()\n",
    "test  = test.cache()"
   ]
  },
  {
   "cell_type": "code",
   "execution_count": 32,
   "id": "a9194a1a",
   "metadata": {},
   "outputs": [],
   "source": [
    "Model  = tf.keras.models.Sequential(\n",
    "[\n",
    "     layer.Flatten() , \n",
    "     layer.Dense(100 , activation='relu') , \n",
    "     layer.Dense(10  , activation='softmax')\n",
    "    \n",
    "])"
   ]
  },
  {
   "cell_type": "code",
   "execution_count": 33,
   "id": "16307252",
   "metadata": {},
   "outputs": [],
   "source": [
    "Model.compile(\n",
    "optimizer= tf.keras.optimizers.Adam(0.001),\n",
    "loss = tf.keras.losses.SparseCategoricalCrossentropy(from_logits=True) , \n",
    "metrics=[tf.keras.metrics.SparseCategoricalAccuracy()]\n",
    ")"
   ]
  },
  {
   "cell_type": "code",
   "execution_count": 34,
   "id": "21195f2e",
   "metadata": {},
   "outputs": [
    {
     "name": "stdout",
     "output_type": "stream",
     "text": [
      "Epoch 1/10\n"
     ]
    },
    {
     "name": "stderr",
     "output_type": "stream",
     "text": [
      "/home/amirhosien/.local/lib/python3.8/site-packages/keras/backend.py:4906: UserWarning: \"`sparse_categorical_crossentropy` received `from_logits=True`, but the `output` argument was produced by a sigmoid or softmax activation and thus does not represent logits. Was this intended?\"\n",
      "  warnings.warn(\n"
     ]
    },
    {
     "name": "stdout",
     "output_type": "stream",
     "text": [
      "235/235 [==============================] - 5s 6ms/step - loss: 0.4847 - sparse_categorical_accuracy: 0.8680 - val_loss: 0.2443 - val_sparse_categorical_accuracy: 0.9296\n",
      "Epoch 2/10\n",
      "235/235 [==============================] - 1s 4ms/step - loss: 0.2152 - sparse_categorical_accuracy: 0.9395 - val_loss: 0.1792 - val_sparse_categorical_accuracy: 0.9477\n",
      "Epoch 3/10\n",
      "235/235 [==============================] - 1s 4ms/step - loss: 0.1622 - sparse_categorical_accuracy: 0.9540 - val_loss: 0.1443 - val_sparse_categorical_accuracy: 0.9571\n",
      "Epoch 4/10\n",
      "235/235 [==============================] - 1s 4ms/step - loss: 0.1306 - sparse_categorical_accuracy: 0.9635 - val_loss: 0.1227 - val_sparse_categorical_accuracy: 0.9631\n",
      "Epoch 5/10\n",
      "235/235 [==============================] - 1s 3ms/step - loss: 0.1089 - sparse_categorical_accuracy: 0.9700 - val_loss: 0.1083 - val_sparse_categorical_accuracy: 0.9667\n",
      "Epoch 6/10\n",
      "235/235 [==============================] - 1s 4ms/step - loss: 0.0929 - sparse_categorical_accuracy: 0.9744 - val_loss: 0.0981 - val_sparse_categorical_accuracy: 0.9705\n",
      "Epoch 7/10\n",
      "235/235 [==============================] - 1s 4ms/step - loss: 0.0806 - sparse_categorical_accuracy: 0.9781 - val_loss: 0.0910 - val_sparse_categorical_accuracy: 0.9725\n",
      "Epoch 8/10\n",
      "235/235 [==============================] - 1s 4ms/step - loss: 0.0707 - sparse_categorical_accuracy: 0.9809 - val_loss: 0.0861 - val_sparse_categorical_accuracy: 0.9733\n",
      "Epoch 9/10\n",
      "235/235 [==============================] - 1s 4ms/step - loss: 0.0625 - sparse_categorical_accuracy: 0.9831 - val_loss: 0.0823 - val_sparse_categorical_accuracy: 0.9741\n",
      "Epoch 10/10\n",
      "235/235 [==============================] - 1s 4ms/step - loss: 0.0555 - sparse_categorical_accuracy: 0.9850 - val_loss: 0.0795 - val_sparse_categorical_accuracy: 0.9741\n"
     ]
    },
    {
     "data": {
      "text/plain": [
       "<keras.callbacks.History at 0x7f9c1104f7f0>"
      ]
     },
     "execution_count": 34,
     "metadata": {},
     "output_type": "execute_result"
    }
   ],
   "source": [
    "Model.fit(\n",
    "    train , \n",
    "    epochs= 10 , \n",
    "    validation_data=test\n",
    ")"
   ]
  },
  {
   "cell_type": "code",
   "execution_count": 37,
   "id": "210b0c23",
   "metadata": {},
   "outputs": [],
   "source": [
    "predicted = Model.predict(test)"
   ]
  },
  {
   "cell_type": "code",
   "execution_count": 59,
   "id": "d20b1e04",
   "metadata": {},
   "outputs": [
    {
     "data": {
      "text/plain": [
       "0"
      ]
     },
     "execution_count": 59,
     "metadata": {},
     "output_type": "execute_result"
    }
   ],
   "source": [
    "np.argmax(predicted[100])"
   ]
  },
  {
   "cell_type": "code",
   "execution_count": null,
   "id": "b59d414c",
   "metadata": {},
   "outputs": [],
   "source": []
  }
 ],
 "metadata": {
  "kernelspec": {
   "display_name": "Python 3",
   "language": "python",
   "name": "python3"
  },
  "language_info": {
   "codemirror_mode": {
    "name": "ipython",
    "version": 3
   },
   "file_extension": ".py",
   "mimetype": "text/x-python",
   "name": "python",
   "nbconvert_exporter": "python",
   "pygments_lexer": "ipython3",
   "version": "3.8.8"
  }
 },
 "nbformat": 4,
 "nbformat_minor": 5
}
